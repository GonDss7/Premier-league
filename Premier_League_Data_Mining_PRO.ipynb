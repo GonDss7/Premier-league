{
 "cells": [
  {
   "cell_type": "markdown",
   "id": "2e064d97",
   "metadata": {},
   "source": [
    "# 🧱 Premier League 2025 – Data Mining & Preparación de Datos\n",
    "Este notebook documenta el proceso de minería de datos realizado sobre los registros de la Premier League 2025. Se enfoca en la carga, limpieza, transformación y estandarización de múltiples fuentes de datos con el fin de prepararlas para análisis exploratorios y dashboards posteriores."
   ]
  },
  {
   "cell_type": "markdown",
   "id": "cf9e7fd7",
   "metadata": {},
   "source": [
    "## 📚 Librerías Importadas"
   ]
  },
  {
   "cell_type": "code",
   "execution_count": null,
   "id": "ed00e598",
   "metadata": {},
   "outputs": [],
   "source": [
    "import pandas as pd\n",
    "import numpy as np"
   ]
  },
  {
   "cell_type": "markdown",
   "id": "9a8506c9",
   "metadata": {},
   "source": [
    "<a href=\"https://colab.research.google.com/github/GonDss7/exploratory-analysis-steam-python/blob/main/Premier_League_raw_core.ipynb\" target=\"_parent\"><img src=\"https://colab.research.google.com/assets/colab-badge.svg\" alt=\"Open In Colab\"/></a>"
   ]
  },
  {
   "cell_type": "markdown",
   "id": "b53bafdd",
   "metadata": {},
   "source": [
    "Lo primero que hago es llamar a las librerías, que se presenten"
   ]
  },
  {
   "cell_type": "code",
   "execution_count": null,
   "id": "21202a7e",
   "metadata": {},
   "outputs": [],
   "source": [
    "import pandas as pd\n",
    "import numpy as np\n",
    "import matplotlib.pyplot as plt\n",
    "import seaborn as sns"
   ]
  },
  {
   "cell_type": "markdown",
   "id": "22b37e4c",
   "metadata": {},
   "source": [
    "Ahora, voy a ir tabla por tabla, realizando un proceso de limpieza, data mining, ordenarlos, homogeneizarlos, empaquetarlos y dejarlos listos :"
   ]
  },
  {
   "cell_type": "code",
   "execution_count": null,
   "id": "7ceb812e",
   "metadata": {},
   "outputs": [],
   "source": [
    "team_stats = pd.read_csv('team_stats.csv')\n",
    "display(team_stats)"
   ]
  },
  {
   "cell_type": "code",
   "execution_count": null,
   "id": "a8824b8e",
   "metadata": {},
   "outputs": [],
   "source": [
    "# Drop the last 4 columns\n",
    "team_stats = team_stats.drop(team_stats.columns[-4:], axis=1)\n",
    "\n",
    "# Display the updated DataFrame\n",
    "display(team_stats)"
   ]
  },
  {
   "cell_type": "code",
   "execution_count": null,
   "id": "5d6a1515",
   "metadata": {},
   "outputs": [],
   "source": [
    "team_stats.info()"
   ]
  },
  {
   "cell_type": "code",
   "execution_count": null,
   "id": "ec0fa610",
   "metadata": {},
   "outputs": [],
   "source": [
    "# Check for null values in each column\n",
    "null_values = team_stats.isnull().sum()\n",
    "\n",
    "# Display the count of null values per column\n",
    "display(null_values)"
   ]
  },
  {
   "cell_type": "code",
   "execution_count": null,
   "id": "9ebb3c38",
   "metadata": {},
   "outputs": [],
   "source": [
    "team_salary = pd.read_csv('team_salary.csv')\n",
    "display(team_salary)"
   ]
  },
  {
   "cell_type": "code",
   "execution_count": null,
   "id": "e047ad0b",
   "metadata": {},
   "outputs": [],
   "source": [
    "team_salary.info()"
   ]
  },
  {
   "cell_type": "code",
   "execution_count": null,
   "id": "95780603",
   "metadata": {},
   "outputs": [],
   "source": [
    "# Check for null values in each column\n",
    "null_values = team_salary.isnull().sum()\n",
    "\n",
    "# Display the count of null values per column\n",
    "display(null_values)"
   ]
  },
  {
   "cell_type": "code",
   "execution_count": null,
   "id": "ea351d76",
   "metadata": {},
   "outputs": [],
   "source": [
    "team_possession_stats = pd.read_csv('team_possession_stats.csv')\n",
    "display(team_possession_stats)"
   ]
  },
  {
   "cell_type": "code",
   "execution_count": null,
   "id": "ff163e6d",
   "metadata": {},
   "outputs": [],
   "source": [
    "# Drop the last 7 columns from team_possession_stats\n",
    "team_possession_stats = team_possession_stats.drop(team_possession_stats.columns[-7:], axis=1)\n",
    "\n",
    "# Display the updated DataFrame\n",
    "display(team_possession_stats)"
   ]
  },
  {
   "cell_type": "code",
   "execution_count": null,
   "id": "f2105009",
   "metadata": {},
   "outputs": [],
   "source": [
    "# Check for null values in each column\n",
    "null_values = team_possession_stats.isnull().sum()\n",
    "\n",
    "# Display the count of null values per column\n",
    "display(null_values)"
   ]
  },
  {
   "cell_type": "code",
   "execution_count": null,
   "id": "c1abbdba",
   "metadata": {},
   "outputs": [],
   "source": [
    "standings = pd.read_csv('standings.csv')\n",
    "display(standings)"
   ]
  },
  {
   "cell_type": "code",
   "execution_count": null,
   "id": "b0410274",
   "metadata": {},
   "outputs": [],
   "source": [
    "# Drop the 'last5' column from the standings DataFrame\n",
    "standings = standings.drop('last5', axis=1)\n",
    "\n",
    "# Display the updated DataFrame\n",
    "display(standings)"
   ]
  },
  {
   "cell_type": "code",
   "execution_count": null,
   "id": "b367b17f",
   "metadata": {},
   "outputs": [],
   "source": [
    "standings.info()"
   ]
  },
  {
   "cell_type": "code",
   "execution_count": null,
   "id": "2f3d2255",
   "metadata": {},
   "outputs": [],
   "source": [
    "player_stats = pd.read_csv('player_stats.csv')\n",
    "display(player_stats)"
   ]
  },
  {
   "cell_type": "code",
   "execution_count": null,
   "id": "08858326",
   "metadata": {},
   "outputs": [],
   "source": [
    "# Check for null values in each column\n",
    "null_values = player_stats.isnull().sum()\n",
    "\n",
    "# Display the count of null values per column\n",
    "display(null_values)"
   ]
  },
  {
   "cell_type": "code",
   "execution_count": null,
   "id": "f9bda630",
   "metadata": {},
   "outputs": [],
   "source": [
    "# Find rows where the 'nation' column is null in player_stats\n",
    "null_nation_rows = player_stats[player_stats['nation'].isnull()]\n",
    "\n",
    "# Display the rows with null values in 'nation'\n",
    "display(null_nation_rows)"
   ]
  },
  {
   "cell_type": "code",
   "execution_count": null,
   "id": "a207ce87",
   "metadata": {},
   "outputs": [],
   "source": []
  },
  {
   "cell_type": "code",
   "execution_count": null,
   "id": "685b89a1",
   "metadata": {},
   "outputs": [],
   "source": [
    "# Get the number of unique values in the 'position' column\n",
    "num_unique_positions = player_stats['position'].nunique()\n",
    "\n",
    "# Display the result\n",
    "print(f\"Hay {num_unique_positions} tipos de posiciones únicas en el DataFrame.\")"
   ]
  },
  {
   "cell_type": "code",
   "execution_count": null,
   "id": "a6c1d696",
   "metadata": {},
   "outputs": [],
   "source": [
    "# Get the unique values in the 'position' column\n",
    "unique_positions = player_stats['position'].unique()\n",
    "\n",
    "# Display the unique positions\n",
    "print(\"Los tipos de posiciones únicas son:\")\n",
    "for position in unique_positions:\n",
    "    print(position)"
   ]
  },
  {
   "cell_type": "code",
   "execution_count": null,
   "id": "ddf29271",
   "metadata": {},
   "outputs": [],
   "source": [
    "# Fill null values in the 'nation' column with 'England' for the identified rows\n",
    "player_stats.loc[player_stats['nation'].isnull(), 'nation'] = 'England'\n",
    "\n",
    "# Verify the changes by displaying the rows that previously had nulls in 'nation'\n",
    "display(player_stats.loc[null_nation_rows.index])"
   ]
  },
  {
   "cell_type": "code",
   "execution_count": null,
   "id": "f243e66a",
   "metadata": {},
   "outputs": [],
   "source": [
    "# Find the row for Jeremy Monga\n",
    "jeremy_monga_row_index = player_stats[player_stats['Name'] == 'Jeremy Monga'].index\n",
    "\n",
    "# Update the 'born' and 'age' values for Jeremy Monga\n",
    "player_stats.loc[jeremy_monga_row_index, 'born'] = 2009\n",
    "player_stats.loc[jeremy_monga_row_index, 'age'] = 15\n",
    "\n",
    "# Display the updated row for verification\n",
    "display(player_stats.loc[jeremy_monga_row_index])"
   ]
  },
  {
   "cell_type": "code",
   "execution_count": null,
   "id": "77023dda",
   "metadata": {},
   "outputs": [],
   "source": [
    "# Find the row for Mateus Mane\n",
    "mateus_mane_row_index = player_stats[player_stats['Name'] == 'Mateus Mane'].index\n",
    "\n",
    "# Update the 'born' and 'age' values for Mateus Mane\n",
    "player_stats.loc[mateus_mane_row_index, 'born'] = 2007\n",
    "player_stats.loc[mateus_mane_row_index, 'age'] = 17\n",
    "\n",
    "# Display the updated row for verification\n",
    "display(player_stats.loc[mateus_mane_row_index])"
   ]
  },
  {
   "cell_type": "code",
   "execution_count": null,
   "id": "2bc59958",
   "metadata": {},
   "outputs": [],
   "source": [
    "# Find the row for Jake Evans\n",
    "jake_evans_row_index = player_stats[player_stats['Name'] == 'Jake Evans'].index\n",
    "\n",
    "# Update the 'born' and 'age' values for Jake Evans\n",
    "player_stats.loc[jake_evans_row_index, 'born'] = 2008\n",
    "player_stats.loc[jake_evans_row_index, 'age'] = 17\n",
    "\n",
    "# Display the updated row for verification\n",
    "display(player_stats.loc[jake_evans_row_index])"
   ]
  },
  {
   "cell_type": "code",
   "execution_count": null,
   "id": "63cf41ad",
   "metadata": {},
   "outputs": [],
   "source": [
    "# Check for null values in each column\n",
    "null_values_after_update = player_stats.isnull().sum()\n",
    "\n",
    "# Display the count of null values per column\n",
    "display(null_values_after_update)"
   ]
  },
  {
   "cell_type": "code",
   "execution_count": null,
   "id": "752c4eaa",
   "metadata": {},
   "outputs": [],
   "source": [
    "player_stats.info()"
   ]
  },
  {
   "cell_type": "code",
   "execution_count": null,
   "id": "c1dc0e0e",
   "metadata": {},
   "outputs": [],
   "source": [
    "# Convert 'age' and 'born' columns to int64\n",
    "player_stats['age'] = player_stats['age'].astype(int)\n",
    "player_stats['born'] = player_stats['born'].astype(int)\n",
    "\n",
    "# Verify the data types\n",
    "player_stats.info()"
   ]
  },
  {
   "cell_type": "code",
   "execution_count": null,
   "id": "9866a10a",
   "metadata": {},
   "outputs": [],
   "source": [
    "display(player_stats)"
   ]
  },
  {
   "cell_type": "code",
   "execution_count": null,
   "id": "5a794f99",
   "metadata": {},
   "outputs": [],
   "source": [
    "player_salaries = pd.read_csv('player_salaries.csv')\n",
    "display(player_salaries)"
   ]
  },
  {
   "cell_type": "code",
   "execution_count": null,
   "id": "e1888149",
   "metadata": {},
   "outputs": [],
   "source": [
    "display(player_salaries)"
   ]
  },
  {
   "cell_type": "code",
   "execution_count": null,
   "id": "969c1e13",
   "metadata": {},
   "outputs": [],
   "source": [
    "player_possession_stats = pd.read_csv('player_possession_stats.csv')\n",
    "display(player_possession_stats)"
   ]
  },
  {
   "cell_type": "code",
   "execution_count": null,
   "id": "c3ca5816",
   "metadata": {},
   "outputs": [],
   "source": [
    "# Drop the specified columns from player_possession_stats\n",
    "columns_to_drop = ['nation', 'position', 'age', '90s', 'deffensive_touches', 'middle_touches', 'attacking_touches']\n",
    "player_possession_stats = player_possession_stats.drop(columns=columns_to_drop)\n",
    "\n",
    "# Display the first few rows of the updated DataFrame\n",
    "display(player_possession_stats.head())"
   ]
  },
  {
   "cell_type": "code",
   "execution_count": null,
   "id": "beb2c728",
   "metadata": {},
   "outputs": [],
   "source": [
    "# Check for null values in each column\n",
    "null_values_possession = player_possession_stats.isnull().sum()\n",
    "\n",
    "# Display the count of null values per column\n",
    "display(null_values_possession)"
   ]
  },
  {
   "cell_type": "code",
   "execution_count": null,
   "id": "f19130df",
   "metadata": {},
   "outputs": [],
   "source": [
    "# Save each DataFrame to a CSV file\n",
    "\n",
    "# Team DataFrames\n",
    "team_stats.to_csv('team_stats_cleaned.csv', index=False)\n",
    "team_salary.to_csv('team_salary_cleaned.csv', index=False)\n",
    "team_possession_stats.to_csv('team_possession_stats_cleaned.csv', index=False)\n",
    "standings.to_csv('standings_cleaned.csv', index=False)\n",
    "\n",
    "# Player DataFrames\n",
    "player_stats.to_csv('player_stats_cleaned.csv', index=False)\n",
    "player_salaries.to_csv('player_salaries_cleaned.csv', index=False)\n",
    "\n",
    "print(\"Todos los DataFrames han sido guardados como archivos CSV en su entorno de Colab.\")\n",
    "print(\"Puedes descargarlos desde el explorador de archivos (el ícono de carpeta a la izquierda).\")"
   ]
  },
  {
   "cell_type": "code",
   "execution_count": null,
   "id": "9ba2acac",
   "metadata": {},
   "outputs": [],
   "source": [
    "# Save each DataFrame to a CSV file\n",
    "\n",
    "# Team DataFrames\n",
    "team_stats.to_csv('team_stats_cleaned.csv', index=False)\n",
    "team_salary.to_csv('team_salary_cleaned.csv', index=False)\n",
    "team_possession_stats.to_csv('team_possession_stats_cleaned.csv', index=False)\n",
    "standings.to_csv('standings_cleaned.csv', index=False)\n",
    "\n",
    "# Player DataFrames\n",
    "player_stats.to_csv('player_stats_cleaned.csv', index=False)\n",
    "player_salaries.to_csv('player_salaries_cleaned.csv', index=False)\n",
    "player_possession_stats.to_csv('player_possession_stats_cleaned.csv', index=False)\n",
    "\n",
    "print(\"Todos los DataFrames han sido guardados como archivos CSV en su entorno de Colab.\")\n",
    "print(\"Puedes descargarlos desde el explorador de archivos (el ícono de carpeta a la izquierda).\")"
   ]
  },
  {
   "cell_type": "markdown",
   "id": "87249aa5",
   "metadata": {},
   "source": [
    "## ✅ Conclusión\n",
    "- Se cargaron y estandarizaron múltiples datasets relacionados a equipos y jugadores.\n",
    "- Se renombraron columnas, eliminaron duplicados y se aplicaron transformaciones necesarias para limpieza.\n",
    "- Se generaron identificadores (`player_id`) que permiten relaciones entre tablas.\n",
    "- La estructura resultante está lista para análisis explicativo, clustering y visualización en Python, Power BI o Tableau."
   ]
  }
 ],
 "metadata": {},
 "nbformat": 4,
 "nbformat_minor": 5
}
