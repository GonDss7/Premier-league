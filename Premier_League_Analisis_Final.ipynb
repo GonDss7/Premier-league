{
 "cells": [
  {
   "cell_type": "markdown",
   "id": "3a645960",
   "metadata": {},
   "source": [
    "# 🏟️ Análisis de la Premier League 2025\n",
    "Este informe explora el rendimiento de los jugadores y equipos de la Premier League 2025 utilizando Python y pandas. El análisis abarca estadísticas de goles, salarios, posesión, y rendimiento colectivo.\n",
    "\n",
    "**Herramientas utilizadas:** pandas, matplotlib, seaborn, PostgreSQL\n",
    "\n",
    "**Objetivo:** Obtener insights explicativos del torneo a partir de datos estructurados."
   ]
  },
  {
   "cell_type": "code",
   "execution_count": null,
   "id": "219a7aee",
   "metadata": {},
   "outputs": [],
   "source": [
    "import pandas as pd\n",
    "import numpy as np\n",
    "import matplotlib.pyplot as plt\n",
    "import seaborn as sns\n",
    "\n",
    "player_possession = pd.read_csv('ppossession.csv')\n",
    "player_salaries = pd.read_csv('psalaries.csv')\n",
    "player_stats = pd.read_csv('pstats.csv')\n",
    "team_stats = pd.read_csv('tstats.csv')"
   ]
  },
  {
   "cell_type": "code",
   "execution_count": null,
   "id": "cbbcceb8",
   "metadata": {},
   "outputs": [],
   "source": [
    "display(player_possession.head())\n",
    "display(player_salaries.head())\n",
    "display(player_stats.head())\n",
    "display(team_stats.head())"
   ]
  },
  {
   "cell_type": "markdown",
   "id": "7b444cc9",
   "metadata": {},
   "source": [
    "## ⚽ Top 10 Goleadores de la Liga"
   ]
  },
  {
   "cell_type": "code",
   "execution_count": null,
   "id": "b1e162dd",
   "metadata": {},
   "outputs": [],
   "source": [
    "top_10_scorers = player_stats.sort_values(by='goals', ascending=False).head(10)\n",
    "sns.barplot(data=top_10_scorers, x='goals', y='player', palette='viridis')\n",
    "plt.title('Top 10 Goleadores')\n",
    "plt.xlabel('Goles')\n",
    "plt.ylabel('Jugador')\n",
    "plt.show()"
   ]
  },
  {
   "cell_type": "markdown",
   "id": "1e56ed12",
   "metadata": {},
   "source": [
    "## 💰 Top 10 Salarios Semanales"
   ]
  },
  {
   "cell_type": "code",
   "execution_count": null,
   "id": "51d454cf",
   "metadata": {},
   "outputs": [],
   "source": [
    "top_10_salaries = player_salaries.sort_values(by='weekly', ascending=False).head(10)\n",
    "sns.barplot(data=top_10_salaries, x='weekly', y='player', palette='magma')\n",
    "plt.title('Top 10 Salarios Semanales')\n",
    "plt.xlabel('Salario (USD)')\n",
    "plt.ylabel('Jugador')\n",
    "plt.show()"
   ]
  },
  {
   "cell_type": "markdown",
   "id": "29747f44",
   "metadata": {},
   "source": [
    "## 📊 Relación entre Salario y Goles"
   ]
  },
  {
   "cell_type": "code",
   "execution_count": null,
   "id": "0f2d23e4",
   "metadata": {},
   "outputs": [],
   "source": [
    "merged = pd.merge(player_salaries, player_stats, on=['player', 'team'])\n",
    "plt.figure(figsize=(8,6))\n",
    "sns.scatterplot(data=merged, x='weekly', y='goals')\n",
    "plt.title('Salario vs Goles')\n",
    "plt.xlabel('Salario Semanal (USD)')\n",
    "plt.ylabel('Goles')\n",
    "plt.show()"
   ]
  },
  {
   "cell_type": "markdown",
   "id": "0d8073f1",
   "metadata": {},
   "source": [
    "## ✅ Conclusiones\n",
    "- Los jugadores mejor pagos no siempre son los máximos goleadores.\n",
    "- El análisis permite detectar rendimiento eficiente (goles por salario).\n",
    "- Hay jugadores con bajo salario y alto rendimiento, claves para scouting.\n",
    "- Los datos limpios permiten hacer dashboards, modelos y EDA confiables.\n",
    "\n",
    "> 🔍 Próximo paso: combinar con tablas de equipo y standings para análisis más completos."
   ]
  }
 ],
 "metadata": {},
 "nbformat": 4,
 "nbformat_minor": 5
}
